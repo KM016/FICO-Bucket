{
 "cells": [
  {
   "cell_type": "markdown",
   "metadata": {},
   "source": [
    "# Libaraies "
   ]
  },
  {
   "cell_type": "code",
   "execution_count": 53,
   "metadata": {},
   "outputs": [],
   "source": [
    "# imports\n",
    "import pandas as pd\n",
    "import numpy as np\n",
    "# import warnings\n",
    "\n",
    "# warnings.filterwarnings('ignore')"
   ]
  },
  {
   "cell_type": "markdown",
   "metadata": {},
   "source": [
    "# Loading Data Set"
   ]
  },
  {
   "cell_type": "code",
   "execution_count": 55,
   "metadata": {},
   "outputs": [
    {
     "data": {
      "text/html": [
       "<div>\n",
       "<style scoped>\n",
       "    .dataframe tbody tr th:only-of-type {\n",
       "        vertical-align: middle;\n",
       "    }\n",
       "\n",
       "    .dataframe tbody tr th {\n",
       "        vertical-align: top;\n",
       "    }\n",
       "\n",
       "    .dataframe thead th {\n",
       "        text-align: right;\n",
       "    }\n",
       "</style>\n",
       "<table border=\"1\" class=\"dataframe\">\n",
       "  <thead>\n",
       "    <tr style=\"text-align: right;\">\n",
       "      <th></th>\n",
       "      <th>customer_id</th>\n",
       "      <th>credit_lines_outstanding</th>\n",
       "      <th>loan_amt_outstanding</th>\n",
       "      <th>total_debt_outstanding</th>\n",
       "      <th>income</th>\n",
       "      <th>years_employed</th>\n",
       "      <th>fico_score</th>\n",
       "      <th>default</th>\n",
       "    </tr>\n",
       "  </thead>\n",
       "  <tbody>\n",
       "    <tr>\n",
       "      <th>0</th>\n",
       "      <td>8153374</td>\n",
       "      <td>0</td>\n",
       "      <td>5221.545193</td>\n",
       "      <td>3915.471226</td>\n",
       "      <td>78039.38546</td>\n",
       "      <td>5</td>\n",
       "      <td>605</td>\n",
       "      <td>0</td>\n",
       "    </tr>\n",
       "    <tr>\n",
       "      <th>1</th>\n",
       "      <td>7442532</td>\n",
       "      <td>5</td>\n",
       "      <td>1958.928726</td>\n",
       "      <td>8228.752520</td>\n",
       "      <td>26648.43525</td>\n",
       "      <td>2</td>\n",
       "      <td>572</td>\n",
       "      <td>1</td>\n",
       "    </tr>\n",
       "    <tr>\n",
       "      <th>2</th>\n",
       "      <td>2256073</td>\n",
       "      <td>0</td>\n",
       "      <td>3363.009259</td>\n",
       "      <td>2027.830850</td>\n",
       "      <td>65866.71246</td>\n",
       "      <td>4</td>\n",
       "      <td>602</td>\n",
       "      <td>0</td>\n",
       "    </tr>\n",
       "    <tr>\n",
       "      <th>3</th>\n",
       "      <td>4885975</td>\n",
       "      <td>0</td>\n",
       "      <td>4766.648001</td>\n",
       "      <td>2501.730397</td>\n",
       "      <td>74356.88347</td>\n",
       "      <td>5</td>\n",
       "      <td>612</td>\n",
       "      <td>0</td>\n",
       "    </tr>\n",
       "    <tr>\n",
       "      <th>4</th>\n",
       "      <td>4700614</td>\n",
       "      <td>1</td>\n",
       "      <td>1345.827718</td>\n",
       "      <td>1768.826187</td>\n",
       "      <td>23448.32631</td>\n",
       "      <td>6</td>\n",
       "      <td>631</td>\n",
       "      <td>0</td>\n",
       "    </tr>\n",
       "  </tbody>\n",
       "</table>\n",
       "</div>"
      ],
      "text/plain": [
       "   customer_id  credit_lines_outstanding  loan_amt_outstanding  \\\n",
       "0      8153374                         0           5221.545193   \n",
       "1      7442532                         5           1958.928726   \n",
       "2      2256073                         0           3363.009259   \n",
       "3      4885975                         0           4766.648001   \n",
       "4      4700614                         1           1345.827718   \n",
       "\n",
       "   total_debt_outstanding       income  years_employed  fico_score  default  \n",
       "0             3915.471226  78039.38546               5         605        0  \n",
       "1             8228.752520  26648.43525               2         572        1  \n",
       "2             2027.830850  65866.71246               4         602        0  \n",
       "3             2501.730397  74356.88347               5         612        0  \n",
       "4             1768.826187  23448.32631               6         631        0  "
      ]
     },
     "execution_count": 55,
     "metadata": {},
     "output_type": "execute_result"
    }
   ],
   "source": [
    "loan_df = pd.read_csv('Loan Data.csv')\n",
    "loan_df.head()"
   ]
  },
  {
   "cell_type": "markdown",
   "metadata": {},
   "source": [
    "# Extracting Useful Data"
   ]
  },
  {
   "cell_type": "code",
   "execution_count": 56,
   "metadata": {},
   "outputs": [],
   "source": [
    "fico_scores = loan_df['fico_score']\n",
    "defaults = loan_df['default']"
   ]
  },
  {
   "cell_type": "markdown",
   "metadata": {},
   "source": [
    "# Calculate Log Likelihood "
   ]
  },
  {
   "cell_type": "code",
   "execution_count": 57,
   "metadata": {},
   "outputs": [],
   "source": [
    "def calculate_ll(fico_scores, defaults, bucket_boundaries):\n",
    "\n",
    "    log_likelihood = 0\n",
    "    for i in range(0, len(bucket_boundaries)-1):\n",
    "        bucket = fico_scores[(fico_scores >= bucket_boundaries[i]) & (fico_scores < bucket_boundaries[i + 1])]\n",
    "        bucket_defaults = defaults[(fico_scores >= bucket_boundaries[i]) & (fico_scores < bucket_boundaries[i + 1])]\n",
    "\n",
    "        n_i = len(bucket) # the number of records in the ith bucket\n",
    "        k_i = bucket_defaults.sum() # the number of defaults in the ith bucket\n",
    "        p_i = k_i / n_i if n_i > 0 else 0# pd of the ith bucket \n",
    "\n",
    "        log_likelihood += ((k_i * np.log(p_i)) + (n_i - k_i)*np.log(1-p_i))\n",
    "\n",
    "    return log_likelihood \n"
   ]
  },
  {
   "cell_type": "markdown",
   "metadata": {},
   "source": [
    "# Optimise Buckets "
   ]
  },
  {
   "cell_type": "code",
   "execution_count": 58,
   "metadata": {},
   "outputs": [],
   "source": [
    "def optimize(fico_scores, defaults, num_buckets):\n",
    "\n",
    "    bucket_boundaries = np.linspace(fico_scores.min(), fico_scores.max(), num_buckets + 1) # creates num_buckets + 1 equidistand boundries \n",
    "\n",
    "    best_boundaries = bucket_boundaries\n",
    "    best_log_likelihood = calculate_ll(fico_scores, defaults, bucket_boundaries)\n",
    "\n",
    "    for _ in range(100):  \n",
    "        new_boundaries = np.sort(np.random.uniform(fico_scores.min(), fico_scores.max(), num_buckets - 1)) # random boundries between max and min and sorts to be in order \n",
    "        new_boundaries = np.concatenate(([fico_scores.min()], new_boundaries, [fico_scores.max()])) # adds min and max to cover the range \n",
    "        \n",
    "        # calculate new log likelihood\n",
    "        new_log_likelihood = calculate_ll(fico_scores, defaults, new_boundaries) \n",
    "        \n",
    "        # update boundaries if log likelihood improves\n",
    "        if new_log_likelihood > best_log_likelihood:\n",
    "            best_log_likelihood = new_log_likelihood\n",
    "            best_boundaries = new_boundaries\n",
    "    return best_boundaries\n"
   ]
  },
  {
   "cell_type": "markdown",
   "metadata": {},
   "source": [
    "# Parameters "
   ]
  },
  {
   "cell_type": "code",
   "execution_count": 59,
   "metadata": {},
   "outputs": [
    {
     "name": "stdout",
     "output_type": "stream",
     "text": [
      "Optimal Bucket Boundaries: [408.   521.65 571.   636.77 688.89 850.  ]\n",
      "\n",
      "This can be interpreted as:\n",
      "Very Poor: 408.0 - 521.65\n",
      "Poor: 521.65 - 571.0\n",
      "Average: 571.0 - 636.77\n",
      "Good: 636.77 - 688.89\n",
      "Very Good: 688.89 - 850.0\n"
     ]
    }
   ],
   "source": [
    "num_buckets = 5  \n",
    "optimal_boundaries = optimize(fico_scores, defaults, num_buckets)\n",
    "optimal_boundaries = np.round(optimal_boundaries, 2)\n",
    "\n",
    "loan_df['fico_bucket'] = pd.cut(fico_scores, bins=optimal_boundaries, labels=range(1, num_buckets +1))\n",
    "\n",
    "print(\"Optimal Bucket Boundaries:\", optimal_boundaries)\n",
    "print(f'\\nThis can be interpreted as:\\nVery Poor: {optimal_boundaries[0]} - {optimal_boundaries[1]}\\nPoor: {optimal_boundaries[1]} - {optimal_boundaries[2]}\\nAverage: {optimal_boundaries[2]} - {optimal_boundaries[3]}\\nGood: {optimal_boundaries[3]} - {optimal_boundaries[4]}\\nVery Good: {optimal_boundaries[4]} - {optimal_boundaries[5]}')"
   ]
  }
 ],
 "metadata": {
  "kernelspec": {
   "display_name": "Python 3",
   "language": "python",
   "name": "python3"
  },
  "language_info": {
   "codemirror_mode": {
    "name": "ipython",
    "version": 3
   },
   "file_extension": ".py",
   "mimetype": "text/x-python",
   "name": "python",
   "nbconvert_exporter": "python",
   "pygments_lexer": "ipython3",
   "version": "3.12.5"
  }
 },
 "nbformat": 4,
 "nbformat_minor": 2
}
